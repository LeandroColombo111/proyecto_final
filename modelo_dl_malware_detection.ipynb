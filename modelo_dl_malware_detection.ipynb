{
  "nbformat": 4,
  "nbformat_minor": 0,
  "metadata": {
    "colab": {
      "provenance": []
    },
    "kernelspec": {
      "name": "python3",
      "display_name": "Python 3"
    },
    "language_info": {
      "name": "python"
    }
  },
  "cells": [
    {
      "cell_type": "code",
      "source": [
        "!pip install imbalanced-learn"
      ],
      "metadata": {
        "colab": {
          "base_uri": "https://localhost:8080/"
        },
        "id": "bv_eEFJJ-XxM",
        "outputId": "8826afc8-2586-4d3a-bc59-7ab0770e92a1"
      },
      "execution_count": null,
      "outputs": [
        {
          "output_type": "stream",
          "name": "stdout",
          "text": [
            "Requirement already satisfied: imbalanced-learn in /usr/local/lib/python3.10/dist-packages (0.10.1)\n",
            "Requirement already satisfied: numpy>=1.17.3 in /usr/local/lib/python3.10/dist-packages (from imbalanced-learn) (1.25.2)\n",
            "Requirement already satisfied: scipy>=1.3.2 in /usr/local/lib/python3.10/dist-packages (from imbalanced-learn) (1.11.4)\n",
            "Requirement already satisfied: scikit-learn>=1.0.2 in /usr/local/lib/python3.10/dist-packages (from imbalanced-learn) (1.2.2)\n",
            "Requirement already satisfied: joblib>=1.1.1 in /usr/local/lib/python3.10/dist-packages (from imbalanced-learn) (1.3.2)\n",
            "Requirement already satisfied: threadpoolctl>=2.0.0 in /usr/local/lib/python3.10/dist-packages (from imbalanced-learn) (3.3.0)\n"
          ]
        }
      ]
    },
    {
      "cell_type": "code",
      "execution_count": null,
      "metadata": {
        "id": "zM1XEHc7BIkF"
      },
      "outputs": [],
      "source": [
        "import tensorflow\n",
        "from keras.models import Sequential\n",
        "from keras.layers import Dense, Dropout, BatchNormalization\n",
        "from sklearn.preprocessing import StandardScaler, OneHotEncoder\n",
        "from sklearn.model_selection import train_test_split\n",
        "import pandas as pd\n",
        "from tensorflow.keras.utils import to_categorical\n",
        "from imblearn.over_sampling import SMOTE"
      ]
    },
    {
      "cell_type": "code",
      "source": [
        "test_data = pd.read_csv('/content/LargeTest.csv')\n",
        "train_data = pd.read_csv('/content/LargeTrain.csv')\n",
        "smote = SMOTE(random_state=42)"
      ],
      "metadata": {
        "id": "f6Bab7dpDc0u"
      },
      "execution_count": null,
      "outputs": []
    },
    {
      "cell_type": "markdown",
      "source": [
        "EDA Train data"
      ],
      "metadata": {
        "id": "VZfsf3LA9YL3"
      }
    },
    {
      "cell_type": "code",
      "source": [
        "train_data.isnull().sum().sum()"
      ],
      "metadata": {
        "colab": {
          "base_uri": "https://localhost:8080/"
        },
        "id": "NXenkiir80IJ",
        "outputId": "7f070997-c2cd-4177-ca43-bad4dbdf4f8f"
      },
      "execution_count": null,
      "outputs": [
        {
          "output_type": "execute_result",
          "data": {
            "text/plain": [
              "586"
            ]
          },
          "metadata": {},
          "execution_count": 18
        }
      ]
    },
    {
      "cell_type": "code",
      "source": [
        "test_data.isnull().sum().sum()"
      ],
      "metadata": {
        "colab": {
          "base_uri": "https://localhost:8080/"
        },
        "id": "luR0xx4yqaO5",
        "outputId": "2eb2169f-962c-460e-8eb1-5ae3f8124287"
      },
      "execution_count": null,
      "outputs": [
        {
          "output_type": "execute_result",
          "data": {
            "text/plain": [
              "1540"
            ]
          },
          "metadata": {},
          "execution_count": 57
        }
      ]
    },
    {
      "cell_type": "code",
      "source": [
        "train_data.describe()"
      ],
      "metadata": {
        "id": "B5hFzyam871S",
        "colab": {
          "base_uri": "https://localhost:8080/",
          "height": 350
        },
        "outputId": "f4fae8f3-0e61-4e48-c110-f1c72c11d68c"
      },
      "execution_count": null,
      "outputs": [
        {
          "output_type": "execute_result",
          "data": {
            "text/plain": [
              "           Virtual       Offset            loc       Import      Imports  \\\n",
              "count  4137.000000  4137.000000    4137.000000  4137.000000  4137.000000   \n",
              "mean      3.268552     3.446942    2078.447909    11.696640     4.941987   \n",
              "std       0.850623     2.298589    6421.451945     8.977786     2.680075   \n",
              "min       0.000000     0.000000       0.000000     0.000000     0.000000   \n",
              "25%       3.000000     3.000000      50.000000     6.000000     4.000000   \n",
              "50%       3.000000     3.000000     506.000000    12.000000     4.000000   \n",
              "75%       3.000000     4.000000    1574.000000    16.000000     6.000000   \n",
              "max      16.000000    90.000000  107775.000000    85.000000    58.000000   \n",
              "\n",
              "                var    Forwarder         UINT         LONG         BOOL  ...  \\\n",
              "count   4137.000000  4137.000000  4137.000000  4137.000000  4137.000000  ...   \n",
              "mean    1297.281122     3.880590    17.135606     5.573846    31.642011  ...   \n",
              "std     4121.208361     2.915767    25.771120     7.622083    39.937012  ...   \n",
              "min        0.000000     0.000000     0.000000     0.000000     0.000000  ...   \n",
              "25%       36.000000     2.000000     6.000000     0.000000    13.000000  ...   \n",
              "50%      363.000000     4.000000    11.000000     4.000000    18.000000  ...   \n",
              "75%     1030.000000     5.000000    17.000000     9.000000    33.000000  ...   \n",
              "max    86560.000000    21.000000   377.000000   124.000000   492.000000  ...   \n",
              "\n",
              "               Img99        Img100         Img101        Img102       Img103  \\\n",
              "count    4136.000000   4136.000000    4136.000000   4136.000000   4136.00000   \n",
              "mean    11028.874033   5152.321325   19468.893375   4922.861944  13198.11146   \n",
              "std     18703.909585   4217.945814   24066.464474   4056.748697  10679.33600   \n",
              "min         0.000000      0.000000       0.000000      0.000000      0.00000   \n",
              "25%      1181.000000   1396.000000    3392.500000   1202.500000   3176.00000   \n",
              "50%      5608.500000   5477.000000   14985.500000   5358.500000  14911.00000   \n",
              "75%      7764.750000   6048.000000   21967.000000   6030.000000  16075.25000   \n",
              "max    161581.000000  23009.000000  197903.000000  24965.000000  62072.00000   \n",
              "\n",
              "              Img104        Img105         Img106         Img107        Class  \n",
              "count    4136.000000   4136.000000    4136.000000    4136.000000  4136.000000  \n",
              "mean    19617.001451   7194.729691   67509.625484   54293.319632     3.990571  \n",
              "std     25058.545103   6015.395215   66409.011804   53107.248896     2.682589  \n",
              "min         0.000000      0.000000       0.000000       0.000000     1.000000  \n",
              "25%      3242.750000   2088.000000   12396.750000    7988.750000     2.000000  \n",
              "50%     15004.500000   7473.500000   67525.500000   48598.500000     3.000000  \n",
              "75%     20606.500000   8349.500000   73407.000000   68585.000000     6.000000  \n",
              "max    196397.000000  36010.000000  388947.000000  300241.000000     9.000000  \n",
              "\n",
              "[8 rows x 1805 columns]"
            ],
            "text/html": [
              "\n",
              "  <div id=\"df-6f409a74-ed19-48e3-b859-9dc4ad50e9ec\" class=\"colab-df-container\">\n",
              "    <div>\n",
              "<style scoped>\n",
              "    .dataframe tbody tr th:only-of-type {\n",
              "        vertical-align: middle;\n",
              "    }\n",
              "\n",
              "    .dataframe tbody tr th {\n",
              "        vertical-align: top;\n",
              "    }\n",
              "\n",
              "    .dataframe thead th {\n",
              "        text-align: right;\n",
              "    }\n",
              "</style>\n",
              "<table border=\"1\" class=\"dataframe\">\n",
              "  <thead>\n",
              "    <tr style=\"text-align: right;\">\n",
              "      <th></th>\n",
              "      <th>Virtual</th>\n",
              "      <th>Offset</th>\n",
              "      <th>loc</th>\n",
              "      <th>Import</th>\n",
              "      <th>Imports</th>\n",
              "      <th>var</th>\n",
              "      <th>Forwarder</th>\n",
              "      <th>UINT</th>\n",
              "      <th>LONG</th>\n",
              "      <th>BOOL</th>\n",
              "      <th>...</th>\n",
              "      <th>Img99</th>\n",
              "      <th>Img100</th>\n",
              "      <th>Img101</th>\n",
              "      <th>Img102</th>\n",
              "      <th>Img103</th>\n",
              "      <th>Img104</th>\n",
              "      <th>Img105</th>\n",
              "      <th>Img106</th>\n",
              "      <th>Img107</th>\n",
              "      <th>Class</th>\n",
              "    </tr>\n",
              "  </thead>\n",
              "  <tbody>\n",
              "    <tr>\n",
              "      <th>count</th>\n",
              "      <td>4137.000000</td>\n",
              "      <td>4137.000000</td>\n",
              "      <td>4137.000000</td>\n",
              "      <td>4137.000000</td>\n",
              "      <td>4137.000000</td>\n",
              "      <td>4137.000000</td>\n",
              "      <td>4137.000000</td>\n",
              "      <td>4137.000000</td>\n",
              "      <td>4137.000000</td>\n",
              "      <td>4137.000000</td>\n",
              "      <td>...</td>\n",
              "      <td>4136.000000</td>\n",
              "      <td>4136.000000</td>\n",
              "      <td>4136.000000</td>\n",
              "      <td>4136.000000</td>\n",
              "      <td>4136.00000</td>\n",
              "      <td>4136.000000</td>\n",
              "      <td>4136.000000</td>\n",
              "      <td>4136.000000</td>\n",
              "      <td>4136.000000</td>\n",
              "      <td>4136.000000</td>\n",
              "    </tr>\n",
              "    <tr>\n",
              "      <th>mean</th>\n",
              "      <td>3.268552</td>\n",
              "      <td>3.446942</td>\n",
              "      <td>2078.447909</td>\n",
              "      <td>11.696640</td>\n",
              "      <td>4.941987</td>\n",
              "      <td>1297.281122</td>\n",
              "      <td>3.880590</td>\n",
              "      <td>17.135606</td>\n",
              "      <td>5.573846</td>\n",
              "      <td>31.642011</td>\n",
              "      <td>...</td>\n",
              "      <td>11028.874033</td>\n",
              "      <td>5152.321325</td>\n",
              "      <td>19468.893375</td>\n",
              "      <td>4922.861944</td>\n",
              "      <td>13198.11146</td>\n",
              "      <td>19617.001451</td>\n",
              "      <td>7194.729691</td>\n",
              "      <td>67509.625484</td>\n",
              "      <td>54293.319632</td>\n",
              "      <td>3.990571</td>\n",
              "    </tr>\n",
              "    <tr>\n",
              "      <th>std</th>\n",
              "      <td>0.850623</td>\n",
              "      <td>2.298589</td>\n",
              "      <td>6421.451945</td>\n",
              "      <td>8.977786</td>\n",
              "      <td>2.680075</td>\n",
              "      <td>4121.208361</td>\n",
              "      <td>2.915767</td>\n",
              "      <td>25.771120</td>\n",
              "      <td>7.622083</td>\n",
              "      <td>39.937012</td>\n",
              "      <td>...</td>\n",
              "      <td>18703.909585</td>\n",
              "      <td>4217.945814</td>\n",
              "      <td>24066.464474</td>\n",
              "      <td>4056.748697</td>\n",
              "      <td>10679.33600</td>\n",
              "      <td>25058.545103</td>\n",
              "      <td>6015.395215</td>\n",
              "      <td>66409.011804</td>\n",
              "      <td>53107.248896</td>\n",
              "      <td>2.682589</td>\n",
              "    </tr>\n",
              "    <tr>\n",
              "      <th>min</th>\n",
              "      <td>0.000000</td>\n",
              "      <td>0.000000</td>\n",
              "      <td>0.000000</td>\n",
              "      <td>0.000000</td>\n",
              "      <td>0.000000</td>\n",
              "      <td>0.000000</td>\n",
              "      <td>0.000000</td>\n",
              "      <td>0.000000</td>\n",
              "      <td>0.000000</td>\n",
              "      <td>0.000000</td>\n",
              "      <td>...</td>\n",
              "      <td>0.000000</td>\n",
              "      <td>0.000000</td>\n",
              "      <td>0.000000</td>\n",
              "      <td>0.000000</td>\n",
              "      <td>0.00000</td>\n",
              "      <td>0.000000</td>\n",
              "      <td>0.000000</td>\n",
              "      <td>0.000000</td>\n",
              "      <td>0.000000</td>\n",
              "      <td>1.000000</td>\n",
              "    </tr>\n",
              "    <tr>\n",
              "      <th>25%</th>\n",
              "      <td>3.000000</td>\n",
              "      <td>3.000000</td>\n",
              "      <td>50.000000</td>\n",
              "      <td>6.000000</td>\n",
              "      <td>4.000000</td>\n",
              "      <td>36.000000</td>\n",
              "      <td>2.000000</td>\n",
              "      <td>6.000000</td>\n",
              "      <td>0.000000</td>\n",
              "      <td>13.000000</td>\n",
              "      <td>...</td>\n",
              "      <td>1181.000000</td>\n",
              "      <td>1396.000000</td>\n",
              "      <td>3392.500000</td>\n",
              "      <td>1202.500000</td>\n",
              "      <td>3176.00000</td>\n",
              "      <td>3242.750000</td>\n",
              "      <td>2088.000000</td>\n",
              "      <td>12396.750000</td>\n",
              "      <td>7988.750000</td>\n",
              "      <td>2.000000</td>\n",
              "    </tr>\n",
              "    <tr>\n",
              "      <th>50%</th>\n",
              "      <td>3.000000</td>\n",
              "      <td>3.000000</td>\n",
              "      <td>506.000000</td>\n",
              "      <td>12.000000</td>\n",
              "      <td>4.000000</td>\n",
              "      <td>363.000000</td>\n",
              "      <td>4.000000</td>\n",
              "      <td>11.000000</td>\n",
              "      <td>4.000000</td>\n",
              "      <td>18.000000</td>\n",
              "      <td>...</td>\n",
              "      <td>5608.500000</td>\n",
              "      <td>5477.000000</td>\n",
              "      <td>14985.500000</td>\n",
              "      <td>5358.500000</td>\n",
              "      <td>14911.00000</td>\n",
              "      <td>15004.500000</td>\n",
              "      <td>7473.500000</td>\n",
              "      <td>67525.500000</td>\n",
              "      <td>48598.500000</td>\n",
              "      <td>3.000000</td>\n",
              "    </tr>\n",
              "    <tr>\n",
              "      <th>75%</th>\n",
              "      <td>3.000000</td>\n",
              "      <td>4.000000</td>\n",
              "      <td>1574.000000</td>\n",
              "      <td>16.000000</td>\n",
              "      <td>6.000000</td>\n",
              "      <td>1030.000000</td>\n",
              "      <td>5.000000</td>\n",
              "      <td>17.000000</td>\n",
              "      <td>9.000000</td>\n",
              "      <td>33.000000</td>\n",
              "      <td>...</td>\n",
              "      <td>7764.750000</td>\n",
              "      <td>6048.000000</td>\n",
              "      <td>21967.000000</td>\n",
              "      <td>6030.000000</td>\n",
              "      <td>16075.25000</td>\n",
              "      <td>20606.500000</td>\n",
              "      <td>8349.500000</td>\n",
              "      <td>73407.000000</td>\n",
              "      <td>68585.000000</td>\n",
              "      <td>6.000000</td>\n",
              "    </tr>\n",
              "    <tr>\n",
              "      <th>max</th>\n",
              "      <td>16.000000</td>\n",
              "      <td>90.000000</td>\n",
              "      <td>107775.000000</td>\n",
              "      <td>85.000000</td>\n",
              "      <td>58.000000</td>\n",
              "      <td>86560.000000</td>\n",
              "      <td>21.000000</td>\n",
              "      <td>377.000000</td>\n",
              "      <td>124.000000</td>\n",
              "      <td>492.000000</td>\n",
              "      <td>...</td>\n",
              "      <td>161581.000000</td>\n",
              "      <td>23009.000000</td>\n",
              "      <td>197903.000000</td>\n",
              "      <td>24965.000000</td>\n",
              "      <td>62072.00000</td>\n",
              "      <td>196397.000000</td>\n",
              "      <td>36010.000000</td>\n",
              "      <td>388947.000000</td>\n",
              "      <td>300241.000000</td>\n",
              "      <td>9.000000</td>\n",
              "    </tr>\n",
              "  </tbody>\n",
              "</table>\n",
              "<p>8 rows × 1805 columns</p>\n",
              "</div>\n",
              "    <div class=\"colab-df-buttons\">\n",
              "\n",
              "  <div class=\"colab-df-container\">\n",
              "    <button class=\"colab-df-convert\" onclick=\"convertToInteractive('df-6f409a74-ed19-48e3-b859-9dc4ad50e9ec')\"\n",
              "            title=\"Convert this dataframe to an interactive table.\"\n",
              "            style=\"display:none;\">\n",
              "\n",
              "  <svg xmlns=\"http://www.w3.org/2000/svg\" height=\"24px\" viewBox=\"0 -960 960 960\">\n",
              "    <path d=\"M120-120v-720h720v720H120Zm60-500h600v-160H180v160Zm220 220h160v-160H400v160Zm0 220h160v-160H400v160ZM180-400h160v-160H180v160Zm440 0h160v-160H620v160ZM180-180h160v-160H180v160Zm440 0h160v-160H620v160Z\"/>\n",
              "  </svg>\n",
              "    </button>\n",
              "\n",
              "  <style>\n",
              "    .colab-df-container {\n",
              "      display:flex;\n",
              "      gap: 12px;\n",
              "    }\n",
              "\n",
              "    .colab-df-convert {\n",
              "      background-color: #E8F0FE;\n",
              "      border: none;\n",
              "      border-radius: 50%;\n",
              "      cursor: pointer;\n",
              "      display: none;\n",
              "      fill: #1967D2;\n",
              "      height: 32px;\n",
              "      padding: 0 0 0 0;\n",
              "      width: 32px;\n",
              "    }\n",
              "\n",
              "    .colab-df-convert:hover {\n",
              "      background-color: #E2EBFA;\n",
              "      box-shadow: 0px 1px 2px rgba(60, 64, 67, 0.3), 0px 1px 3px 1px rgba(60, 64, 67, 0.15);\n",
              "      fill: #174EA6;\n",
              "    }\n",
              "\n",
              "    .colab-df-buttons div {\n",
              "      margin-bottom: 4px;\n",
              "    }\n",
              "\n",
              "    [theme=dark] .colab-df-convert {\n",
              "      background-color: #3B4455;\n",
              "      fill: #D2E3FC;\n",
              "    }\n",
              "\n",
              "    [theme=dark] .colab-df-convert:hover {\n",
              "      background-color: #434B5C;\n",
              "      box-shadow: 0px 1px 3px 1px rgba(0, 0, 0, 0.15);\n",
              "      filter: drop-shadow(0px 1px 2px rgba(0, 0, 0, 0.3));\n",
              "      fill: #FFFFFF;\n",
              "    }\n",
              "  </style>\n",
              "\n",
              "    <script>\n",
              "      const buttonEl =\n",
              "        document.querySelector('#df-6f409a74-ed19-48e3-b859-9dc4ad50e9ec button.colab-df-convert');\n",
              "      buttonEl.style.display =\n",
              "        google.colab.kernel.accessAllowed ? 'block' : 'none';\n",
              "\n",
              "      async function convertToInteractive(key) {\n",
              "        const element = document.querySelector('#df-6f409a74-ed19-48e3-b859-9dc4ad50e9ec');\n",
              "        const dataTable =\n",
              "          await google.colab.kernel.invokeFunction('convertToInteractive',\n",
              "                                                    [key], {});\n",
              "        if (!dataTable) return;\n",
              "\n",
              "        const docLinkHtml = 'Like what you see? Visit the ' +\n",
              "          '<a target=\"_blank\" href=https://colab.research.google.com/notebooks/data_table.ipynb>data table notebook</a>'\n",
              "          + ' to learn more about interactive tables.';\n",
              "        element.innerHTML = '';\n",
              "        dataTable['output_type'] = 'display_data';\n",
              "        await google.colab.output.renderOutput(dataTable, element);\n",
              "        const docLink = document.createElement('div');\n",
              "        docLink.innerHTML = docLinkHtml;\n",
              "        element.appendChild(docLink);\n",
              "      }\n",
              "    </script>\n",
              "  </div>\n",
              "\n",
              "\n",
              "<div id=\"df-c4001720-b66a-443b-8ae0-681c22a23eff\">\n",
              "  <button class=\"colab-df-quickchart\" onclick=\"quickchart('df-c4001720-b66a-443b-8ae0-681c22a23eff')\"\n",
              "            title=\"Suggest charts\"\n",
              "            style=\"display:none;\">\n",
              "\n",
              "<svg xmlns=\"http://www.w3.org/2000/svg\" height=\"24px\"viewBox=\"0 0 24 24\"\n",
              "     width=\"24px\">\n",
              "    <g>\n",
              "        <path d=\"M19 3H5c-1.1 0-2 .9-2 2v14c0 1.1.9 2 2 2h14c1.1 0 2-.9 2-2V5c0-1.1-.9-2-2-2zM9 17H7v-7h2v7zm4 0h-2V7h2v10zm4 0h-2v-4h2v4z\"/>\n",
              "    </g>\n",
              "</svg>\n",
              "  </button>\n",
              "\n",
              "<style>\n",
              "  .colab-df-quickchart {\n",
              "      --bg-color: #E8F0FE;\n",
              "      --fill-color: #1967D2;\n",
              "      --hover-bg-color: #E2EBFA;\n",
              "      --hover-fill-color: #174EA6;\n",
              "      --disabled-fill-color: #AAA;\n",
              "      --disabled-bg-color: #DDD;\n",
              "  }\n",
              "\n",
              "  [theme=dark] .colab-df-quickchart {\n",
              "      --bg-color: #3B4455;\n",
              "      --fill-color: #D2E3FC;\n",
              "      --hover-bg-color: #434B5C;\n",
              "      --hover-fill-color: #FFFFFF;\n",
              "      --disabled-bg-color: #3B4455;\n",
              "      --disabled-fill-color: #666;\n",
              "  }\n",
              "\n",
              "  .colab-df-quickchart {\n",
              "    background-color: var(--bg-color);\n",
              "    border: none;\n",
              "    border-radius: 50%;\n",
              "    cursor: pointer;\n",
              "    display: none;\n",
              "    fill: var(--fill-color);\n",
              "    height: 32px;\n",
              "    padding: 0;\n",
              "    width: 32px;\n",
              "  }\n",
              "\n",
              "  .colab-df-quickchart:hover {\n",
              "    background-color: var(--hover-bg-color);\n",
              "    box-shadow: 0 1px 2px rgba(60, 64, 67, 0.3), 0 1px 3px 1px rgba(60, 64, 67, 0.15);\n",
              "    fill: var(--button-hover-fill-color);\n",
              "  }\n",
              "\n",
              "  .colab-df-quickchart-complete:disabled,\n",
              "  .colab-df-quickchart-complete:disabled:hover {\n",
              "    background-color: var(--disabled-bg-color);\n",
              "    fill: var(--disabled-fill-color);\n",
              "    box-shadow: none;\n",
              "  }\n",
              "\n",
              "  .colab-df-spinner {\n",
              "    border: 2px solid var(--fill-color);\n",
              "    border-color: transparent;\n",
              "    border-bottom-color: var(--fill-color);\n",
              "    animation:\n",
              "      spin 1s steps(1) infinite;\n",
              "  }\n",
              "\n",
              "  @keyframes spin {\n",
              "    0% {\n",
              "      border-color: transparent;\n",
              "      border-bottom-color: var(--fill-color);\n",
              "      border-left-color: var(--fill-color);\n",
              "    }\n",
              "    20% {\n",
              "      border-color: transparent;\n",
              "      border-left-color: var(--fill-color);\n",
              "      border-top-color: var(--fill-color);\n",
              "    }\n",
              "    30% {\n",
              "      border-color: transparent;\n",
              "      border-left-color: var(--fill-color);\n",
              "      border-top-color: var(--fill-color);\n",
              "      border-right-color: var(--fill-color);\n",
              "    }\n",
              "    40% {\n",
              "      border-color: transparent;\n",
              "      border-right-color: var(--fill-color);\n",
              "      border-top-color: var(--fill-color);\n",
              "    }\n",
              "    60% {\n",
              "      border-color: transparent;\n",
              "      border-right-color: var(--fill-color);\n",
              "    }\n",
              "    80% {\n",
              "      border-color: transparent;\n",
              "      border-right-color: var(--fill-color);\n",
              "      border-bottom-color: var(--fill-color);\n",
              "    }\n",
              "    90% {\n",
              "      border-color: transparent;\n",
              "      border-bottom-color: var(--fill-color);\n",
              "    }\n",
              "  }\n",
              "</style>\n",
              "\n",
              "  <script>\n",
              "    async function quickchart(key) {\n",
              "      const quickchartButtonEl =\n",
              "        document.querySelector('#' + key + ' button');\n",
              "      quickchartButtonEl.disabled = true;  // To prevent multiple clicks.\n",
              "      quickchartButtonEl.classList.add('colab-df-spinner');\n",
              "      try {\n",
              "        const charts = await google.colab.kernel.invokeFunction(\n",
              "            'suggestCharts', [key], {});\n",
              "      } catch (error) {\n",
              "        console.error('Error during call to suggestCharts:', error);\n",
              "      }\n",
              "      quickchartButtonEl.classList.remove('colab-df-spinner');\n",
              "      quickchartButtonEl.classList.add('colab-df-quickchart-complete');\n",
              "    }\n",
              "    (() => {\n",
              "      let quickchartButtonEl =\n",
              "        document.querySelector('#df-c4001720-b66a-443b-8ae0-681c22a23eff button');\n",
              "      quickchartButtonEl.style.display =\n",
              "        google.colab.kernel.accessAllowed ? 'block' : 'none';\n",
              "    })();\n",
              "  </script>\n",
              "</div>\n",
              "\n",
              "    </div>\n",
              "  </div>\n"
            ],
            "application/vnd.google.colaboratory.intrinsic+json": {
              "type": "dataframe"
            }
          },
          "metadata": {},
          "execution_count": 19
        }
      ]
    },
    {
      "cell_type": "code",
      "source": [
        "train_data['Class'].value_counts()"
      ],
      "metadata": {
        "colab": {
          "base_uri": "https://localhost:8080/"
        },
        "id": "yf0grdnf9A82",
        "outputId": "c5f9bf57-91e0-469f-b3ae-36346f4311ed"
      },
      "execution_count": null,
      "outputs": [
        {
          "output_type": "execute_result",
          "data": {
            "text/plain": [
              "3    2942\n",
              "2    2478\n",
              "1    1541\n",
              "8    1228\n",
              "9    1013\n",
              "6     751\n",
              "4     475\n",
              "7     398\n",
              "5      42\n",
              "Name: Class, dtype: int64"
            ]
          },
          "metadata": {},
          "execution_count": 174
        }
      ]
    },
    {
      "cell_type": "code",
      "source": [
        "print(test_data.head())"
      ],
      "metadata": {
        "id": "lSZMdYJh3r5v"
      },
      "execution_count": null,
      "outputs": []
    },
    {
      "cell_type": "code",
      "source": [
        "X = train_data.drop('Class', axis=1)  # Características\n",
        "y = train_data['Class']              # Etiquetas"
      ],
      "metadata": {
        "id": "h8AYi3Kmw3NL"
      },
      "execution_count": null,
      "outputs": []
    },
    {
      "cell_type": "code",
      "source": [
        "X_test = test_data.values"
      ],
      "metadata": {
        "id": "9oExppYhGtb9"
      },
      "execution_count": null,
      "outputs": []
    },
    {
      "cell_type": "code",
      "source": [
        "# Opcional: Normalizar X_train si es necesario\n",
        "scaler = StandardScaler()\n",
        "X_scaled = scaler.fit_transform(X)"
      ],
      "metadata": {
        "id": "UlUAsHQFGDpL"
      },
      "execution_count": null,
      "outputs": []
    },
    {
      "cell_type": "code",
      "source": [
        "X_train, X_test, y_train, y_test = train_test_split(X_scaled, y, test_size=0.2, random_state=42)"
      ],
      "metadata": {
        "id": "nArbBe2C9mRc"
      },
      "execution_count": null,
      "outputs": []
    },
    {
      "cell_type": "code",
      "source": [
        "X_train_smote, y_train_smote = smote.fit_resample(X_train, y_train)"
      ],
      "metadata": {
        "id": "2BgR7On_-ws9"
      },
      "execution_count": null,
      "outputs": []
    },
    {
      "cell_type": "code",
      "source": [
        "(X_train.shape, X_test.shape, y_train.shape, y_test.shape)"
      ],
      "metadata": {
        "id": "XmlUgd0H92-r",
        "outputId": "591f59d5-17d0-41d3-9605-77541361c4d3",
        "colab": {
          "base_uri": "https://localhost:8080/"
        }
      },
      "execution_count": null,
      "outputs": [
        {
          "output_type": "execute_result",
          "data": {
            "text/plain": [
              "((8694, 1804), (2174, 1804), (8694,), (2174,))"
            ]
          },
          "metadata": {},
          "execution_count": 92
        }
      ]
    },
    {
      "cell_type": "code",
      "source": [
        "class_distribution_smote = pd.Series(y_train_smote).value_counts()\n",
        "\n",
        "class_distribution_smote"
      ],
      "metadata": {
        "colab": {
          "base_uri": "https://localhost:8080/"
        },
        "id": "7xLDWKG3-8-v",
        "outputId": "7df6890f-d8ba-4f77-d633-b48fc283d225"
      },
      "execution_count": null,
      "outputs": [
        {
          "output_type": "execute_result",
          "data": {
            "text/plain": [
              "2.0    940\n",
              "3.0    940\n",
              "8.0    940\n",
              "9.0    940\n",
              "1.0    940\n",
              "4.0    940\n",
              "7.0    940\n",
              "6.0    940\n",
              "5.0    940\n",
              "Name: Class, dtype: int64"
            ]
          },
          "metadata": {},
          "execution_count": 93
        }
      ]
    },
    {
      "cell_type": "code",
      "source": [
        "model = Sequential()\n",
        "# Primera capa oculta\n",
        "model.add(Dense(512, activation='relu', input_shape=(X_train_smote.shape[1],)))\n",
        "# Posiblemente más capas ocultas\n",
        "model.add(Dense(256, activation='relu'))\n",
        "model.add(Dense(128, activation='relu'))\n",
        "# Capa de salida\n",
        "model.add(Dense(9, activation='softmax'))  # Usar '9' si hay 9 clases distintas"
      ],
      "metadata": {
        "id": "NPOAN6J-40Fs"
      },
      "execution_count": null,
      "outputs": []
    },
    {
      "cell_type": "code",
      "source": [
        "model.compile(optimizer='adam', loss='sparse_categorical_crossentropy', metrics=['accuracy'])"
      ],
      "metadata": {
        "id": "J6fL62dXGPvk"
      },
      "execution_count": null,
      "outputs": []
    },
    {
      "cell_type": "code",
      "source": [
        "y_train_smote_adjusted = y_train_smote - 1\n",
        "y_test_adjusted = y_test - 1\n",
        "\n",
        "# Luego, puedes entrenar tu modelo como lo estabas haciendo:\n",
        "model.fit(X_train_smote, y_train_smote_adjusted, epochs=10, batch_size=32, validation_split=0.2)\n",
        "\n"
      ],
      "metadata": {
        "id": "2agWSm0jGSwI",
        "colab": {
          "base_uri": "https://localhost:8080/"
        },
        "outputId": "31b6f836-c0d0-458c-d0f2-34fbd32e824b"
      },
      "execution_count": null,
      "outputs": [
        {
          "output_type": "stream",
          "name": "stdout",
          "text": [
            "Epoch 1/10\n",
            "212/212 [==============================] - 5s 18ms/step - loss: 0.1418 - accuracy: 0.9696 - val_loss: 0.0275 - val_accuracy: 0.9935\n",
            "Epoch 2/10\n",
            "212/212 [==============================] - 4s 17ms/step - loss: 0.0397 - accuracy: 0.9931 - val_loss: 0.0610 - val_accuracy: 0.9959\n",
            "Epoch 3/10\n",
            "212/212 [==============================] - 3s 15ms/step - loss: 0.0383 - accuracy: 0.9947 - val_loss: 0.0405 - val_accuracy: 0.9959\n",
            "Epoch 4/10\n",
            "212/212 [==============================] - 3s 14ms/step - loss: 0.0272 - accuracy: 0.9969 - val_loss: 0.0120 - val_accuracy: 0.9976\n",
            "Epoch 5/10\n",
            "212/212 [==============================] - 3s 16ms/step - loss: 0.0053 - accuracy: 0.9985 - val_loss: 0.0082 - val_accuracy: 0.9970\n",
            "Epoch 6/10\n",
            "212/212 [==============================] - 4s 19ms/step - loss: 0.0525 - accuracy: 0.9941 - val_loss: 0.0271 - val_accuracy: 0.9911\n",
            "Epoch 7/10\n",
            "212/212 [==============================] - 3s 14ms/step - loss: 0.0245 - accuracy: 0.9950 - val_loss: 0.0216 - val_accuracy: 0.9965\n",
            "Epoch 8/10\n",
            "212/212 [==============================] - 3s 14ms/step - loss: 0.0188 - accuracy: 0.9979 - val_loss: 0.0093 - val_accuracy: 0.9976\n",
            "Epoch 9/10\n",
            "212/212 [==============================] - 3s 15ms/step - loss: 0.0089 - accuracy: 0.9982 - val_loss: 0.0831 - val_accuracy: 0.9965\n",
            "Epoch 10/10\n",
            "212/212 [==============================] - 4s 20ms/step - loss: 0.0240 - accuracy: 0.9982 - val_loss: 0.0083 - val_accuracy: 0.9970\n"
          ]
        },
        {
          "output_type": "execute_result",
          "data": {
            "text/plain": [
              "<keras.src.callbacks.History at 0x7f4c6531d270>"
            ]
          },
          "metadata": {},
          "execution_count": 96
        }
      ]
    },
    {
      "cell_type": "code",
      "source": [
        "# Hacer predicciones con el modelo\n",
        "predictions = model.predict(X_test)\n",
        "\n",
        "# 'predictions' contendrá las probabilidades de clase predichas por tu modelo"
      ],
      "metadata": {
        "colab": {
          "base_uri": "https://localhost:8080/"
        },
        "id": "VGpnAjqZKpRb",
        "outputId": "9eac5e5b-ff02-4d2f-da33-9e5eb804fa45"
      },
      "execution_count": null,
      "outputs": [
        {
          "output_type": "stream",
          "name": "stdout",
          "text": [
            "68/68 [==============================] - 0s 4ms/step\n"
          ]
        }
      ]
    },
    {
      "cell_type": "code",
      "source": [
        "from sklearn.metrics import confusion_matrix\n",
        "import seaborn as sns\n",
        "import matplotlib.pyplot as plt\n",
        "import numpy as np\n",
        "# Predicciones\n",
        "y_pred = model.predict(X_test)\n",
        "y_pred_classes = np.argmax(y_pred, axis=1)\n",
        "\n",
        "# Matriz de confusión\n",
        "cm = confusion_matrix(y_test_adjusted, y_pred_classes)\n",
        "\n",
        "# Visualización\n",
        "sns.heatmap(cm, annot=True, fmt='d')\n",
        "plt.ylabel('Actual')\n",
        "plt.xlabel('Predicted')\n",
        "plt.show()\n"
      ],
      "metadata": {
        "colab": {
          "base_uri": "https://localhost:8080/",
          "height": 466
        },
        "id": "TfXtxz--AzsV",
        "outputId": "bb22cc57-e5e4-49ec-95f2-afc9375c231b"
      },
      "execution_count": null,
      "outputs": [
        {
          "output_type": "stream",
          "name": "stdout",
          "text": [
            "68/68 [==============================] - 0s 7ms/step\n"
          ]
        },
        {
          "output_type": "display_data",
          "data": {
            "text/plain": [
              "<Figure size 640x480 with 2 Axes>"
            ],
            "image/png": "[encoded data removed]"
          },
          "metadata": {}
        }
      ]
    },
    {
      "cell_type": "code",
      "source": [
        "from sklearn.metrics import confusion_matrix, precision_score, recall_score, f1_score\n",
        "\n",
        "# Convertir predicciones probabilísticas en etiquetas de clase (si es necesario)\n",
        "# Si tus predicciones ya están en forma de etiquetas de clase, puedes omitir este paso\n",
        "predicted_labels = predictions.argmax(axis=1)\n",
        "\n",
        "# Calcular la matriz de confusión\n",
        "conf_matrix = confusion_matrix(y_test_adjusted, y_pred_classes)\n",
        "\n",
        "# Calcular precisión, recuperación y puntuación F1\n",
        "precision = precision_score(y_test_adjusted, predicted_labels, average='weighted') # Usa 'micro', 'macro', o 'weighted' según tu caso\n",
        "recall = recall_score(y_test_adjusted, predicted_labels, average='weighted')\n",
        "f1 = f1_score(y_test_adjusted, predicted_labels, average='weighted')\n",
        "\n",
        "# Imprimir las métricas\n",
        "print(\"Matriz de Confusión:\\n\", conf_matrix)\n",
        "print(\"Precisión: {:.2f}\".format(precision))\n",
        "print(\"Recuperación: {:.2f}\".format(recall))\n",
        "print(\"Puntuación F1: {:.2f}\".format(f1))"
      ],
      "metadata": {
        "colab": {
          "base_uri": "https://localhost:8080/"
        },
        "id": "AxaJgEXpMVsi",
        "outputId": "d6640eaf-3a89-42a1-ed74-629a3b280f97"
      },
      "execution_count": null,
      "outputs": [
        {
          "output_type": "stream",
          "name": "stdout",
          "text": [
            "Matriz de Confusión:\n",
            " [[307   0   0   1   0   1   0   9   0]\n",
            " [  0 487   0   0   0   1   0   2   0]\n",
            " [  0   0 587   0   0   0   0   0   0]\n",
            " [  0   0   0  94   0   0   0   0   0]\n",
            " [  0   0   0   1   5   0   0   0   0]\n",
            " [  0   0   0   0   0 147   0   0   0]\n",
            " [  0   0   0   1   0   0  68   0   0]\n",
            " [  6   0   1   1   0   1   0 242   1]\n",
            " [  0   0   0   0   0   1   0   0 210]]\n",
            "Precisión: 0.99\n",
            "Recuperación: 0.99\n",
            "Puntuación F1: 0.99\n"
          ]
        }
      ]
    },
    {
      "cell_type": "code",
      "source": [
        "model.save('mi_modelo.h5')  # Guarda el modelo en el formato HDF5"
      ],
      "metadata": {
        "colab": {
          "base_uri": "https://localhost:8080/"
        },
        "id": "po89o8jMnl8U",
        "outputId": "67f5a810-17eb-4521-a027-f1edf31b0d8f"
      },
      "execution_count": null,
      "outputs": [
        {
          "output_type": "stream",
          "name": "stderr",
          "text": [
            "/usr/local/lib/python3.10/dist-packages/keras/src/engine/training.py:3103: UserWarning: You are saving your model as an HDF5 file via `model.save()`. This file format is considered legacy. We recommend using instead the native Keras format, e.g. `model.save('my_model.keras')`.\n",
            "  saving_api.save_model(\n"
          ]
        }
      ]
    }
  ]
}